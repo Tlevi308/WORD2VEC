{
  "nbformat": 4,
  "nbformat_minor": 0,
  "metadata": {
    "colab": {
      "provenance": []
    },
    "kernelspec": {
      "name": "python3",
      "display_name": "Python 3"
    },
    "language_info": {
      "name": "python"
    }
  },
  "cells": [
    {
      "cell_type": "markdown",
      "source": [
        "# WORD EMBEDDING"
      ],
      "metadata": {
        "id": "NGu17sllYmja"
      }
    },
    {
      "cell_type": "markdown",
      "source": [
        "# Import libraries "
      ],
      "metadata": {
        "id": "Y5BzHSpkTXn2"
      }
    },
    {
      "cell_type": "code",
      "execution_count": 1,
      "metadata": {
        "id": "r3Lb5Hg0TMu7"
      },
      "outputs": [],
      "source": [
        "import numpy as np\n",
        "import pandas as pd"
      ]
    },
    {
      "cell_type": "markdown",
      "source": [
        "# Import Data"
      ],
      "metadata": {
        "id": "TxZiTarVTWhx"
      }
    },
    {
      "cell_type": "code",
      "source": [
        "df = pd.read_csv('/content/drive/MyDrive/Meetup - 28.02.23/data.csv')\n",
        "df"
      ],
      "metadata": {
        "colab": {
          "base_uri": "https://localhost:8080/",
          "height": 519
        },
        "id": "yH4luuEITVp4",
        "outputId": "ab47d2ba-f575-416b-f2f8-91c7c4f65dca"
      },
      "execution_count": 2,
      "outputs": [
        {
          "output_type": "execute_result",
          "data": {
            "text/plain": [
              "         name                                               text\n",
              "0       Sarah  Sarah is overjoyed with the news of her promot...\n",
              "1     Michael  Michael is thrilled to be going on a trip to E...\n",
              "2        Emma  Emma is ecstatic about her new relationship an...\n",
              "3       David  David is elated after finishing his first mara...\n",
              "4      Olivia  Olivia is thrilled to be accepted into her dre...\n",
              "5       Ethan  Ethan is overjoyed to be a new dad and is trea...\n",
              "6         Ava  Ava is ecstatic after getting a promotion at w...\n",
              "7      Daniel  Daniel is thrilled to be moving into his first...\n",
              "8      Sophia  Sophia is overjoyed after getting engaged to h...\n",
              "9       Lucas  Lucas is ecstatic after getting his dream job ...\n",
              "10   Isabella  Isabella is thrilled to be going on a vacation...\n",
              "11      Jacob  Jacob is overjoyed after getting accepted into...\n",
              "12        Mia  Mia is elated after winning first place in a d...\n",
              "13       Noah  Noah is thrilled to be a new homeowner and is ...\n",
              "14  Charlotte  Charlotte is ecstatic after getting tickets to..."
            ],
            "text/html": [
              "\n",
              "  <div id=\"df-d5f49538-c3b8-48c7-a20f-39049434a579\">\n",
              "    <div class=\"colab-df-container\">\n",
              "      <div>\n",
              "<style scoped>\n",
              "    .dataframe tbody tr th:only-of-type {\n",
              "        vertical-align: middle;\n",
              "    }\n",
              "\n",
              "    .dataframe tbody tr th {\n",
              "        vertical-align: top;\n",
              "    }\n",
              "\n",
              "    .dataframe thead th {\n",
              "        text-align: right;\n",
              "    }\n",
              "</style>\n",
              "<table border=\"1\" class=\"dataframe\">\n",
              "  <thead>\n",
              "    <tr style=\"text-align: right;\">\n",
              "      <th></th>\n",
              "      <th>name</th>\n",
              "      <th>text</th>\n",
              "    </tr>\n",
              "  </thead>\n",
              "  <tbody>\n",
              "    <tr>\n",
              "      <th>0</th>\n",
              "      <td>Sarah</td>\n",
              "      <td>Sarah is overjoyed with the news of her promot...</td>\n",
              "    </tr>\n",
              "    <tr>\n",
              "      <th>1</th>\n",
              "      <td>Michael</td>\n",
              "      <td>Michael is thrilled to be going on a trip to E...</td>\n",
              "    </tr>\n",
              "    <tr>\n",
              "      <th>2</th>\n",
              "      <td>Emma</td>\n",
              "      <td>Emma is ecstatic about her new relationship an...</td>\n",
              "    </tr>\n",
              "    <tr>\n",
              "      <th>3</th>\n",
              "      <td>David</td>\n",
              "      <td>David is elated after finishing his first mara...</td>\n",
              "    </tr>\n",
              "    <tr>\n",
              "      <th>4</th>\n",
              "      <td>Olivia</td>\n",
              "      <td>Olivia is thrilled to be accepted into her dre...</td>\n",
              "    </tr>\n",
              "    <tr>\n",
              "      <th>5</th>\n",
              "      <td>Ethan</td>\n",
              "      <td>Ethan is overjoyed to be a new dad and is trea...</td>\n",
              "    </tr>\n",
              "    <tr>\n",
              "      <th>6</th>\n",
              "      <td>Ava</td>\n",
              "      <td>Ava is ecstatic after getting a promotion at w...</td>\n",
              "    </tr>\n",
              "    <tr>\n",
              "      <th>7</th>\n",
              "      <td>Daniel</td>\n",
              "      <td>Daniel is thrilled to be moving into his first...</td>\n",
              "    </tr>\n",
              "    <tr>\n",
              "      <th>8</th>\n",
              "      <td>Sophia</td>\n",
              "      <td>Sophia is overjoyed after getting engaged to h...</td>\n",
              "    </tr>\n",
              "    <tr>\n",
              "      <th>9</th>\n",
              "      <td>Lucas</td>\n",
              "      <td>Lucas is ecstatic after getting his dream job ...</td>\n",
              "    </tr>\n",
              "    <tr>\n",
              "      <th>10</th>\n",
              "      <td>Isabella</td>\n",
              "      <td>Isabella is thrilled to be going on a vacation...</td>\n",
              "    </tr>\n",
              "    <tr>\n",
              "      <th>11</th>\n",
              "      <td>Jacob</td>\n",
              "      <td>Jacob is overjoyed after getting accepted into...</td>\n",
              "    </tr>\n",
              "    <tr>\n",
              "      <th>12</th>\n",
              "      <td>Mia</td>\n",
              "      <td>Mia is elated after winning first place in a d...</td>\n",
              "    </tr>\n",
              "    <tr>\n",
              "      <th>13</th>\n",
              "      <td>Noah</td>\n",
              "      <td>Noah is thrilled to be a new homeowner and is ...</td>\n",
              "    </tr>\n",
              "    <tr>\n",
              "      <th>14</th>\n",
              "      <td>Charlotte</td>\n",
              "      <td>Charlotte is ecstatic after getting tickets to...</td>\n",
              "    </tr>\n",
              "  </tbody>\n",
              "</table>\n",
              "</div>\n",
              "      <button class=\"colab-df-convert\" onclick=\"convertToInteractive('df-d5f49538-c3b8-48c7-a20f-39049434a579')\"\n",
              "              title=\"Convert this dataframe to an interactive table.\"\n",
              "              style=\"display:none;\">\n",
              "        \n",
              "  <svg xmlns=\"http://www.w3.org/2000/svg\" height=\"24px\"viewBox=\"0 0 24 24\"\n",
              "       width=\"24px\">\n",
              "    <path d=\"M0 0h24v24H0V0z\" fill=\"none\"/>\n",
              "    <path d=\"M18.56 5.44l.94 2.06.94-2.06 2.06-.94-2.06-.94-.94-2.06-.94 2.06-2.06.94zm-11 1L8.5 8.5l.94-2.06 2.06-.94-2.06-.94L8.5 2.5l-.94 2.06-2.06.94zm10 10l.94 2.06.94-2.06 2.06-.94-2.06-.94-.94-2.06-.94 2.06-2.06.94z\"/><path d=\"M17.41 7.96l-1.37-1.37c-.4-.4-.92-.59-1.43-.59-.52 0-1.04.2-1.43.59L10.3 9.45l-7.72 7.72c-.78.78-.78 2.05 0 2.83L4 21.41c.39.39.9.59 1.41.59.51 0 1.02-.2 1.41-.59l7.78-7.78 2.81-2.81c.8-.78.8-2.07 0-2.86zM5.41 20L4 18.59l7.72-7.72 1.47 1.35L5.41 20z\"/>\n",
              "  </svg>\n",
              "      </button>\n",
              "      \n",
              "  <style>\n",
              "    .colab-df-container {\n",
              "      display:flex;\n",
              "      flex-wrap:wrap;\n",
              "      gap: 12px;\n",
              "    }\n",
              "\n",
              "    .colab-df-convert {\n",
              "      background-color: #E8F0FE;\n",
              "      border: none;\n",
              "      border-radius: 50%;\n",
              "      cursor: pointer;\n",
              "      display: none;\n",
              "      fill: #1967D2;\n",
              "      height: 32px;\n",
              "      padding: 0 0 0 0;\n",
              "      width: 32px;\n",
              "    }\n",
              "\n",
              "    .colab-df-convert:hover {\n",
              "      background-color: #E2EBFA;\n",
              "      box-shadow: 0px 1px 2px rgba(60, 64, 67, 0.3), 0px 1px 3px 1px rgba(60, 64, 67, 0.15);\n",
              "      fill: #174EA6;\n",
              "    }\n",
              "\n",
              "    [theme=dark] .colab-df-convert {\n",
              "      background-color: #3B4455;\n",
              "      fill: #D2E3FC;\n",
              "    }\n",
              "\n",
              "    [theme=dark] .colab-df-convert:hover {\n",
              "      background-color: #434B5C;\n",
              "      box-shadow: 0px 1px 3px 1px rgba(0, 0, 0, 0.15);\n",
              "      filter: drop-shadow(0px 1px 2px rgba(0, 0, 0, 0.3));\n",
              "      fill: #FFFFFF;\n",
              "    }\n",
              "  </style>\n",
              "\n",
              "      <script>\n",
              "        const buttonEl =\n",
              "          document.querySelector('#df-d5f49538-c3b8-48c7-a20f-39049434a579 button.colab-df-convert');\n",
              "        buttonEl.style.display =\n",
              "          google.colab.kernel.accessAllowed ? 'block' : 'none';\n",
              "\n",
              "        async function convertToInteractive(key) {\n",
              "          const element = document.querySelector('#df-d5f49538-c3b8-48c7-a20f-39049434a579');\n",
              "          const dataTable =\n",
              "            await google.colab.kernel.invokeFunction('convertToInteractive',\n",
              "                                                     [key], {});\n",
              "          if (!dataTable) return;\n",
              "\n",
              "          const docLinkHtml = 'Like what you see? Visit the ' +\n",
              "            '<a target=\"_blank\" href=https://colab.research.google.com/notebooks/data_table.ipynb>data table notebook</a>'\n",
              "            + ' to learn more about interactive tables.';\n",
              "          element.innerHTML = '';\n",
              "          dataTable['output_type'] = 'display_data';\n",
              "          await google.colab.output.renderOutput(dataTable, element);\n",
              "          const docLink = document.createElement('div');\n",
              "          docLink.innerHTML = docLinkHtml;\n",
              "          element.appendChild(docLink);\n",
              "        }\n",
              "      </script>\n",
              "    </div>\n",
              "  </div>\n",
              "  "
            ]
          },
          "metadata": {},
          "execution_count": 2
        }
      ]
    },
    {
      "cell_type": "markdown",
      "source": [
        "# Analyzing the Data\n",
        "### focus on one row"
      ],
      "metadata": {
        "id": "GKV4pESLTrTE"
      }
    },
    {
      "cell_type": "code",
      "source": [
        "df['text'][0] = \"Sarah lives in tel aviv, Sarah is overjoyed with the news of her promotion and can't wait to start her new job. Sarah is feeling anxious about her upcoming presentation and is practicing her speech over and over again. Sarah is heartbroken after her dog passed away and is taking some time off work to grieve.,\""
      ],
      "metadata": {
        "id": "sp0MJqYNULTy"
      },
      "execution_count": 3,
      "outputs": []
    },
    {
      "cell_type": "markdown",
      "source": [
        "# Installing OpenAI Packages "
      ],
      "metadata": {
        "id": "7Y7ghQuBUM_V"
      }
    },
    {
      "cell_type": "code",
      "source": [
        "pip install openai"
      ],
      "metadata": {
        "colab": {
          "base_uri": "https://localhost:8080/"
        },
        "id": "l_4b9nB4ekii",
        "outputId": "316625b1-d0dd-4a9a-d8e6-37221965e3e6"
      },
      "execution_count": 4,
      "outputs": [
        {
          "output_type": "stream",
          "name": "stdout",
          "text": [
            "Looking in indexes: https://pypi.org/simple, https://us-python.pkg.dev/colab-wheels/public/simple/\n",
            "Collecting openai\n",
            "  Downloading openai-0.26.5.tar.gz (55 kB)\n",
            "\u001b[2K     \u001b[90m━━━━━━━━━━━━━━━━━━━━━━━━━━━━━━━━━━━━━━━━\u001b[0m \u001b[32m55.5/55.5 KB\u001b[0m \u001b[31m2.0 MB/s\u001b[0m eta \u001b[36m0:00:00\u001b[0m\n",
            "\u001b[?25h  Installing build dependencies ... \u001b[?25l\u001b[?25hdone\n",
            "  Getting requirements to build wheel ... \u001b[?25l\u001b[?25hdone\n",
            "  Installing backend dependencies ... \u001b[?25l\u001b[?25hdone\n",
            "  Preparing metadata (pyproject.toml) ... \u001b[?25l\u001b[?25hdone\n",
            "Requirement already satisfied: requests>=2.20 in /usr/local/lib/python3.8/dist-packages (from openai) (2.25.1)\n",
            "Requirement already satisfied: aiohttp in /usr/local/lib/python3.8/dist-packages (from openai) (3.8.4)\n",
            "Requirement already satisfied: tqdm in /usr/local/lib/python3.8/dist-packages (from openai) (4.64.1)\n",
            "Requirement already satisfied: chardet<5,>=3.0.2 in /usr/local/lib/python3.8/dist-packages (from requests>=2.20->openai) (4.0.0)\n",
            "Requirement already satisfied: idna<3,>=2.5 in /usr/local/lib/python3.8/dist-packages (from requests>=2.20->openai) (2.10)\n",
            "Requirement already satisfied: urllib3<1.27,>=1.21.1 in /usr/local/lib/python3.8/dist-packages (from requests>=2.20->openai) (1.26.14)\n",
            "Requirement already satisfied: certifi>=2017.4.17 in /usr/local/lib/python3.8/dist-packages (from requests>=2.20->openai) (2022.12.7)\n",
            "Requirement already satisfied: multidict<7.0,>=4.5 in /usr/local/lib/python3.8/dist-packages (from aiohttp->openai) (6.0.4)\n",
            "Requirement already satisfied: charset-normalizer<4.0,>=2.0 in /usr/local/lib/python3.8/dist-packages (from aiohttp->openai) (3.0.1)\n",
            "Requirement already satisfied: async-timeout<5.0,>=4.0.0a3 in /usr/local/lib/python3.8/dist-packages (from aiohttp->openai) (4.0.2)\n",
            "Requirement already satisfied: frozenlist>=1.1.1 in /usr/local/lib/python3.8/dist-packages (from aiohttp->openai) (1.3.3)\n",
            "Requirement already satisfied: aiosignal>=1.1.2 in /usr/local/lib/python3.8/dist-packages (from aiohttp->openai) (1.3.1)\n",
            "Requirement already satisfied: attrs>=17.3.0 in /usr/local/lib/python3.8/dist-packages (from aiohttp->openai) (22.2.0)\n",
            "Requirement already satisfied: yarl<2.0,>=1.0 in /usr/local/lib/python3.8/dist-packages (from aiohttp->openai) (1.8.2)\n",
            "Building wheels for collected packages: openai\n",
            "  Building wheel for openai (pyproject.toml) ... \u001b[?25l\u001b[?25hdone\n",
            "  Created wheel for openai: filename=openai-0.26.5-py3-none-any.whl size=67620 sha256=0a13e2a0606688ee2ed387d248dc43513a6533711a952015476174f87f069548\n",
            "  Stored in directory: /root/.cache/pip/wheels/a7/47/99/8273a59fbd59c303e8ff175416d5c1c9c03a2e83ebf7525a99\n",
            "Successfully built openai\n",
            "Installing collected packages: openai\n",
            "Successfully installed openai-0.26.5\n"
          ]
        }
      ]
    },
    {
      "cell_type": "markdown",
      "source": [
        "# Importing OpenAI\n",
        "# Make a API KEY"
      ],
      "metadata": {
        "id": "4Iani6wyUfKj"
      }
    },
    {
      "cell_type": "code",
      "source": [
        "import openai\n",
        "openai.api_key = 'api_key'"
      ],
      "metadata": {
        "id": "Rt7eACfiUqdO"
      },
      "execution_count": 5,
      "outputs": []
    },
    {
      "cell_type": "markdown",
      "source": [
        "# Get Embedding function"
      ],
      "metadata": {
        "id": "aqNHsrKdUrUU"
      }
    },
    {
      "cell_type": "code",
      "source": [
        "def get_embedding(text, model=\"text-embedding-ada-002\"):\n",
        "   text = text.replace(\"\\n\", \" \")\n",
        "   return openai.Embedding.create(input = [text], model=model)['data'][0]['embedding']"
      ],
      "metadata": {
        "id": "pmidFRHxU2Hl"
      },
      "execution_count": 6,
      "outputs": []
    },
    {
      "cell_type": "markdown",
      "source": [
        "# How it looks like "
      ],
      "metadata": {
        "id": "u2jhv45gU7In"
      }
    },
    {
      "cell_type": "code",
      "source": [
        "emb = get_embedding('HEY')"
      ],
      "metadata": {
        "id": "o5Jy2KdbHcSd"
      },
      "execution_count": 7,
      "outputs": []
    },
    {
      "cell_type": "code",
      "source": [
        "emb"
      ],
      "metadata": {
        "id": "IwBpycgvUjmi"
      },
      "execution_count": null,
      "outputs": []
    },
    {
      "cell_type": "code",
      "source": [
        "df"
      ],
      "metadata": {
        "colab": {
          "base_uri": "https://localhost:8080/",
          "height": 519
        },
        "id": "_yiuVI6pwAPK",
        "outputId": "fb1d9851-2266-427a-ab92-412500677c2d"
      },
      "execution_count": 9,
      "outputs": [
        {
          "output_type": "execute_result",
          "data": {
            "text/plain": [
              "         name                                               text\n",
              "0       Sarah  Sarah lives in tel aviv, Sarah is overjoyed wi...\n",
              "1     Michael  Michael is thrilled to be going on a trip to E...\n",
              "2        Emma  Emma is ecstatic about her new relationship an...\n",
              "3       David  David is elated after finishing his first mara...\n",
              "4      Olivia  Olivia is thrilled to be accepted into her dre...\n",
              "5       Ethan  Ethan is overjoyed to be a new dad and is trea...\n",
              "6         Ava  Ava is ecstatic after getting a promotion at w...\n",
              "7      Daniel  Daniel is thrilled to be moving into his first...\n",
              "8      Sophia  Sophia is overjoyed after getting engaged to h...\n",
              "9       Lucas  Lucas is ecstatic after getting his dream job ...\n",
              "10   Isabella  Isabella is thrilled to be going on a vacation...\n",
              "11      Jacob  Jacob is overjoyed after getting accepted into...\n",
              "12        Mia  Mia is elated after winning first place in a d...\n",
              "13       Noah  Noah is thrilled to be a new homeowner and is ...\n",
              "14  Charlotte  Charlotte is ecstatic after getting tickets to..."
            ],
            "text/html": [
              "\n",
              "  <div id=\"df-091424b6-9e0e-4b37-bbf3-c3d6a5a49c7a\">\n",
              "    <div class=\"colab-df-container\">\n",
              "      <div>\n",
              "<style scoped>\n",
              "    .dataframe tbody tr th:only-of-type {\n",
              "        vertical-align: middle;\n",
              "    }\n",
              "\n",
              "    .dataframe tbody tr th {\n",
              "        vertical-align: top;\n",
              "    }\n",
              "\n",
              "    .dataframe thead th {\n",
              "        text-align: right;\n",
              "    }\n",
              "</style>\n",
              "<table border=\"1\" class=\"dataframe\">\n",
              "  <thead>\n",
              "    <tr style=\"text-align: right;\">\n",
              "      <th></th>\n",
              "      <th>name</th>\n",
              "      <th>text</th>\n",
              "    </tr>\n",
              "  </thead>\n",
              "  <tbody>\n",
              "    <tr>\n",
              "      <th>0</th>\n",
              "      <td>Sarah</td>\n",
              "      <td>Sarah lives in tel aviv, Sarah is overjoyed wi...</td>\n",
              "    </tr>\n",
              "    <tr>\n",
              "      <th>1</th>\n",
              "      <td>Michael</td>\n",
              "      <td>Michael is thrilled to be going on a trip to E...</td>\n",
              "    </tr>\n",
              "    <tr>\n",
              "      <th>2</th>\n",
              "      <td>Emma</td>\n",
              "      <td>Emma is ecstatic about her new relationship an...</td>\n",
              "    </tr>\n",
              "    <tr>\n",
              "      <th>3</th>\n",
              "      <td>David</td>\n",
              "      <td>David is elated after finishing his first mara...</td>\n",
              "    </tr>\n",
              "    <tr>\n",
              "      <th>4</th>\n",
              "      <td>Olivia</td>\n",
              "      <td>Olivia is thrilled to be accepted into her dre...</td>\n",
              "    </tr>\n",
              "    <tr>\n",
              "      <th>5</th>\n",
              "      <td>Ethan</td>\n",
              "      <td>Ethan is overjoyed to be a new dad and is trea...</td>\n",
              "    </tr>\n",
              "    <tr>\n",
              "      <th>6</th>\n",
              "      <td>Ava</td>\n",
              "      <td>Ava is ecstatic after getting a promotion at w...</td>\n",
              "    </tr>\n",
              "    <tr>\n",
              "      <th>7</th>\n",
              "      <td>Daniel</td>\n",
              "      <td>Daniel is thrilled to be moving into his first...</td>\n",
              "    </tr>\n",
              "    <tr>\n",
              "      <th>8</th>\n",
              "      <td>Sophia</td>\n",
              "      <td>Sophia is overjoyed after getting engaged to h...</td>\n",
              "    </tr>\n",
              "    <tr>\n",
              "      <th>9</th>\n",
              "      <td>Lucas</td>\n",
              "      <td>Lucas is ecstatic after getting his dream job ...</td>\n",
              "    </tr>\n",
              "    <tr>\n",
              "      <th>10</th>\n",
              "      <td>Isabella</td>\n",
              "      <td>Isabella is thrilled to be going on a vacation...</td>\n",
              "    </tr>\n",
              "    <tr>\n",
              "      <th>11</th>\n",
              "      <td>Jacob</td>\n",
              "      <td>Jacob is overjoyed after getting accepted into...</td>\n",
              "    </tr>\n",
              "    <tr>\n",
              "      <th>12</th>\n",
              "      <td>Mia</td>\n",
              "      <td>Mia is elated after winning first place in a d...</td>\n",
              "    </tr>\n",
              "    <tr>\n",
              "      <th>13</th>\n",
              "      <td>Noah</td>\n",
              "      <td>Noah is thrilled to be a new homeowner and is ...</td>\n",
              "    </tr>\n",
              "    <tr>\n",
              "      <th>14</th>\n",
              "      <td>Charlotte</td>\n",
              "      <td>Charlotte is ecstatic after getting tickets to...</td>\n",
              "    </tr>\n",
              "  </tbody>\n",
              "</table>\n",
              "</div>\n",
              "      <button class=\"colab-df-convert\" onclick=\"convertToInteractive('df-091424b6-9e0e-4b37-bbf3-c3d6a5a49c7a')\"\n",
              "              title=\"Convert this dataframe to an interactive table.\"\n",
              "              style=\"display:none;\">\n",
              "        \n",
              "  <svg xmlns=\"http://www.w3.org/2000/svg\" height=\"24px\"viewBox=\"0 0 24 24\"\n",
              "       width=\"24px\">\n",
              "    <path d=\"M0 0h24v24H0V0z\" fill=\"none\"/>\n",
              "    <path d=\"M18.56 5.44l.94 2.06.94-2.06 2.06-.94-2.06-.94-.94-2.06-.94 2.06-2.06.94zm-11 1L8.5 8.5l.94-2.06 2.06-.94-2.06-.94L8.5 2.5l-.94 2.06-2.06.94zm10 10l.94 2.06.94-2.06 2.06-.94-2.06-.94-.94-2.06-.94 2.06-2.06.94z\"/><path d=\"M17.41 7.96l-1.37-1.37c-.4-.4-.92-.59-1.43-.59-.52 0-1.04.2-1.43.59L10.3 9.45l-7.72 7.72c-.78.78-.78 2.05 0 2.83L4 21.41c.39.39.9.59 1.41.59.51 0 1.02-.2 1.41-.59l7.78-7.78 2.81-2.81c.8-.78.8-2.07 0-2.86zM5.41 20L4 18.59l7.72-7.72 1.47 1.35L5.41 20z\"/>\n",
              "  </svg>\n",
              "      </button>\n",
              "      \n",
              "  <style>\n",
              "    .colab-df-container {\n",
              "      display:flex;\n",
              "      flex-wrap:wrap;\n",
              "      gap: 12px;\n",
              "    }\n",
              "\n",
              "    .colab-df-convert {\n",
              "      background-color: #E8F0FE;\n",
              "      border: none;\n",
              "      border-radius: 50%;\n",
              "      cursor: pointer;\n",
              "      display: none;\n",
              "      fill: #1967D2;\n",
              "      height: 32px;\n",
              "      padding: 0 0 0 0;\n",
              "      width: 32px;\n",
              "    }\n",
              "\n",
              "    .colab-df-convert:hover {\n",
              "      background-color: #E2EBFA;\n",
              "      box-shadow: 0px 1px 2px rgba(60, 64, 67, 0.3), 0px 1px 3px 1px rgba(60, 64, 67, 0.15);\n",
              "      fill: #174EA6;\n",
              "    }\n",
              "\n",
              "    [theme=dark] .colab-df-convert {\n",
              "      background-color: #3B4455;\n",
              "      fill: #D2E3FC;\n",
              "    }\n",
              "\n",
              "    [theme=dark] .colab-df-convert:hover {\n",
              "      background-color: #434B5C;\n",
              "      box-shadow: 0px 1px 3px 1px rgba(0, 0, 0, 0.15);\n",
              "      filter: drop-shadow(0px 1px 2px rgba(0, 0, 0, 0.3));\n",
              "      fill: #FFFFFF;\n",
              "    }\n",
              "  </style>\n",
              "\n",
              "      <script>\n",
              "        const buttonEl =\n",
              "          document.querySelector('#df-091424b6-9e0e-4b37-bbf3-c3d6a5a49c7a button.colab-df-convert');\n",
              "        buttonEl.style.display =\n",
              "          google.colab.kernel.accessAllowed ? 'block' : 'none';\n",
              "\n",
              "        async function convertToInteractive(key) {\n",
              "          const element = document.querySelector('#df-091424b6-9e0e-4b37-bbf3-c3d6a5a49c7a');\n",
              "          const dataTable =\n",
              "            await google.colab.kernel.invokeFunction('convertToInteractive',\n",
              "                                                     [key], {});\n",
              "          if (!dataTable) return;\n",
              "\n",
              "          const docLinkHtml = 'Like what you see? Visit the ' +\n",
              "            '<a target=\"_blank\" href=https://colab.research.google.com/notebooks/data_table.ipynb>data table notebook</a>'\n",
              "            + ' to learn more about interactive tables.';\n",
              "          element.innerHTML = '';\n",
              "          dataTable['output_type'] = 'display_data';\n",
              "          await google.colab.output.renderOutput(dataTable, element);\n",
              "          const docLink = document.createElement('div');\n",
              "          docLink.innerHTML = docLinkHtml;\n",
              "          element.appendChild(docLink);\n",
              "        }\n",
              "      </script>\n",
              "    </div>\n",
              "  </div>\n",
              "  "
            ]
          },
          "metadata": {},
          "execution_count": 9
        }
      ]
    },
    {
      "cell_type": "markdown",
      "source": [
        "# New Get Embedding function"
      ],
      "metadata": {
        "id": "IkW4D3ojUPUH"
      }
    },
    {
      "cell_type": "code",
      "source": [
        "def get_embedding(texts, model=\"text-embedding-ada-002\"):\n",
        "   texts = [text.replace(\"\\n\", \" \") for text in texts]\n",
        "   return [tx['embedding'] for tx in openai.Embedding.create(input = texts, model=model)['data']]"
      ],
      "metadata": {
        "id": "nZWCHuvLUTA7"
      },
      "execution_count": 10,
      "outputs": []
    },
    {
      "cell_type": "code",
      "source": [
        "embs = get_embedding(['hey','bye'])\n",
        "len(embs)"
      ],
      "metadata": {
        "colab": {
          "base_uri": "https://localhost:8080/"
        },
        "id": "uf_QGOUX8F3D",
        "outputId": "11e18964-dc03-4d07-bced-961e86118c15"
      },
      "execution_count": 11,
      "outputs": [
        {
          "output_type": "execute_result",
          "data": {
            "text/plain": [
              "2"
            ]
          },
          "metadata": {},
          "execution_count": 11
        }
      ]
    },
    {
      "cell_type": "markdown",
      "source": [
        "# list of embeddibg to our text"
      ],
      "metadata": {
        "id": "fQPN0Y67VCH7"
      }
    },
    {
      "cell_type": "code",
      "source": [
        "batch_size = 20\n",
        "embs = []\n",
        "\n",
        "for i in range(0,len(df),batch_size):\n",
        "  embs += get_embedding(df.iloc[i:i+batch_size]['text'])"
      ],
      "metadata": {
        "id": "DJDyAUXQV4nt"
      },
      "execution_count": 12,
      "outputs": []
    },
    {
      "cell_type": "code",
      "source": [
        "len(embs)"
      ],
      "metadata": {
        "colab": {
          "base_uri": "https://localhost:8080/"
        },
        "id": "PchL22RWVOjZ",
        "outputId": "0a4f5922-8d1f-4684-9b11-fa1db55ca3c6"
      },
      "execution_count": 13,
      "outputs": [
        {
          "output_type": "execute_result",
          "data": {
            "text/plain": [
              "15"
            ]
          },
          "metadata": {},
          "execution_count": 13
        }
      ]
    },
    {
      "cell_type": "code",
      "source": [
        "df['embeddings'] = embs"
      ],
      "metadata": {
        "id": "1eMKdzpH88Y2"
      },
      "execution_count": 14,
      "outputs": []
    },
    {
      "cell_type": "code",
      "source": [
        "df"
      ],
      "metadata": {
        "colab": {
          "base_uri": "https://localhost:8080/",
          "height": 519
        },
        "id": "Ypws26zEyLfR",
        "outputId": "c7cdd606-84ed-4daa-8b3b-db662f63009b"
      },
      "execution_count": 16,
      "outputs": [
        {
          "output_type": "execute_result",
          "data": {
            "text/plain": [
              "         name                                               text  \\\n",
              "0       Sarah  Sarah lives in tel aviv, Sarah is overjoyed wi...   \n",
              "1     Michael  Michael is thrilled to be going on a trip to E...   \n",
              "2        Emma  Emma is ecstatic about her new relationship an...   \n",
              "3       David  David is elated after finishing his first mara...   \n",
              "4      Olivia  Olivia is thrilled to be accepted into her dre...   \n",
              "5       Ethan  Ethan is overjoyed to be a new dad and is trea...   \n",
              "6         Ava  Ava is ecstatic after getting a promotion at w...   \n",
              "7      Daniel  Daniel is thrilled to be moving into his first...   \n",
              "8      Sophia  Sophia is overjoyed after getting engaged to h...   \n",
              "9       Lucas  Lucas is ecstatic after getting his dream job ...   \n",
              "10   Isabella  Isabella is thrilled to be going on a vacation...   \n",
              "11      Jacob  Jacob is overjoyed after getting accepted into...   \n",
              "12        Mia  Mia is elated after winning first place in a d...   \n",
              "13       Noah  Noah is thrilled to be a new homeowner and is ...   \n",
              "14  Charlotte  Charlotte is ecstatic after getting tickets to...   \n",
              "\n",
              "                                           embeddings  \n",
              "0   [-0.01752377115190029, -0.012456578202545643, ...  \n",
              "1   [-0.004104881081730127, -0.03133073076605797, ...  \n",
              "2   [-0.016136551275849342, -0.016551975160837173,...  \n",
              "3   [-0.030624326318502426, -0.016445420682430267,...  \n",
              "4   [-0.008352238684892654, -0.02371164597570896, ...  \n",
              "5   [-0.015730954706668854, -0.02074720337986946, ...  \n",
              "6   [-0.02229701168835163, -0.01428157463669777, 0...  \n",
              "7   [0.0008735249866731465, 0.010632514022290707, ...  \n",
              "8   [0.0029820336494594812, -0.022900402545928955,...  \n",
              "9   [-0.009209472686052322, -0.00729331886395812, ...  \n",
              "10  [-0.006672471296042204, -0.003711354685947299,...  \n",
              "11  [-0.0045298621989786625, -0.012968610040843487...  \n",
              "12  [-0.016794022172689438, -0.008056591264903545,...  \n",
              "13  [0.00769903464242816, -0.012579371221363544, -...  \n",
              "14  [0.00039725363603793085, 0.0016487269895151258...  "
            ],
            "text/html": [
              "\n",
              "  <div id=\"df-ef6a0ab3-5839-475b-9050-e010753107b3\">\n",
              "    <div class=\"colab-df-container\">\n",
              "      <div>\n",
              "<style scoped>\n",
              "    .dataframe tbody tr th:only-of-type {\n",
              "        vertical-align: middle;\n",
              "    }\n",
              "\n",
              "    .dataframe tbody tr th {\n",
              "        vertical-align: top;\n",
              "    }\n",
              "\n",
              "    .dataframe thead th {\n",
              "        text-align: right;\n",
              "    }\n",
              "</style>\n",
              "<table border=\"1\" class=\"dataframe\">\n",
              "  <thead>\n",
              "    <tr style=\"text-align: right;\">\n",
              "      <th></th>\n",
              "      <th>name</th>\n",
              "      <th>text</th>\n",
              "      <th>embeddings</th>\n",
              "    </tr>\n",
              "  </thead>\n",
              "  <tbody>\n",
              "    <tr>\n",
              "      <th>0</th>\n",
              "      <td>Sarah</td>\n",
              "      <td>Sarah lives in tel aviv, Sarah is overjoyed wi...</td>\n",
              "      <td>[-0.01752377115190029, -0.012456578202545643, ...</td>\n",
              "    </tr>\n",
              "    <tr>\n",
              "      <th>1</th>\n",
              "      <td>Michael</td>\n",
              "      <td>Michael is thrilled to be going on a trip to E...</td>\n",
              "      <td>[-0.004104881081730127, -0.03133073076605797, ...</td>\n",
              "    </tr>\n",
              "    <tr>\n",
              "      <th>2</th>\n",
              "      <td>Emma</td>\n",
              "      <td>Emma is ecstatic about her new relationship an...</td>\n",
              "      <td>[-0.016136551275849342, -0.016551975160837173,...</td>\n",
              "    </tr>\n",
              "    <tr>\n",
              "      <th>3</th>\n",
              "      <td>David</td>\n",
              "      <td>David is elated after finishing his first mara...</td>\n",
              "      <td>[-0.030624326318502426, -0.016445420682430267,...</td>\n",
              "    </tr>\n",
              "    <tr>\n",
              "      <th>4</th>\n",
              "      <td>Olivia</td>\n",
              "      <td>Olivia is thrilled to be accepted into her dre...</td>\n",
              "      <td>[-0.008352238684892654, -0.02371164597570896, ...</td>\n",
              "    </tr>\n",
              "    <tr>\n",
              "      <th>5</th>\n",
              "      <td>Ethan</td>\n",
              "      <td>Ethan is overjoyed to be a new dad and is trea...</td>\n",
              "      <td>[-0.015730954706668854, -0.02074720337986946, ...</td>\n",
              "    </tr>\n",
              "    <tr>\n",
              "      <th>6</th>\n",
              "      <td>Ava</td>\n",
              "      <td>Ava is ecstatic after getting a promotion at w...</td>\n",
              "      <td>[-0.02229701168835163, -0.01428157463669777, 0...</td>\n",
              "    </tr>\n",
              "    <tr>\n",
              "      <th>7</th>\n",
              "      <td>Daniel</td>\n",
              "      <td>Daniel is thrilled to be moving into his first...</td>\n",
              "      <td>[0.0008735249866731465, 0.010632514022290707, ...</td>\n",
              "    </tr>\n",
              "    <tr>\n",
              "      <th>8</th>\n",
              "      <td>Sophia</td>\n",
              "      <td>Sophia is overjoyed after getting engaged to h...</td>\n",
              "      <td>[0.0029820336494594812, -0.022900402545928955,...</td>\n",
              "    </tr>\n",
              "    <tr>\n",
              "      <th>9</th>\n",
              "      <td>Lucas</td>\n",
              "      <td>Lucas is ecstatic after getting his dream job ...</td>\n",
              "      <td>[-0.009209472686052322, -0.00729331886395812, ...</td>\n",
              "    </tr>\n",
              "    <tr>\n",
              "      <th>10</th>\n",
              "      <td>Isabella</td>\n",
              "      <td>Isabella is thrilled to be going on a vacation...</td>\n",
              "      <td>[-0.006672471296042204, -0.003711354685947299,...</td>\n",
              "    </tr>\n",
              "    <tr>\n",
              "      <th>11</th>\n",
              "      <td>Jacob</td>\n",
              "      <td>Jacob is overjoyed after getting accepted into...</td>\n",
              "      <td>[-0.0045298621989786625, -0.012968610040843487...</td>\n",
              "    </tr>\n",
              "    <tr>\n",
              "      <th>12</th>\n",
              "      <td>Mia</td>\n",
              "      <td>Mia is elated after winning first place in a d...</td>\n",
              "      <td>[-0.016794022172689438, -0.008056591264903545,...</td>\n",
              "    </tr>\n",
              "    <tr>\n",
              "      <th>13</th>\n",
              "      <td>Noah</td>\n",
              "      <td>Noah is thrilled to be a new homeowner and is ...</td>\n",
              "      <td>[0.00769903464242816, -0.012579371221363544, -...</td>\n",
              "    </tr>\n",
              "    <tr>\n",
              "      <th>14</th>\n",
              "      <td>Charlotte</td>\n",
              "      <td>Charlotte is ecstatic after getting tickets to...</td>\n",
              "      <td>[0.00039725363603793085, 0.0016487269895151258...</td>\n",
              "    </tr>\n",
              "  </tbody>\n",
              "</table>\n",
              "</div>\n",
              "      <button class=\"colab-df-convert\" onclick=\"convertToInteractive('df-ef6a0ab3-5839-475b-9050-e010753107b3')\"\n",
              "              title=\"Convert this dataframe to an interactive table.\"\n",
              "              style=\"display:none;\">\n",
              "        \n",
              "  <svg xmlns=\"http://www.w3.org/2000/svg\" height=\"24px\"viewBox=\"0 0 24 24\"\n",
              "       width=\"24px\">\n",
              "    <path d=\"M0 0h24v24H0V0z\" fill=\"none\"/>\n",
              "    <path d=\"M18.56 5.44l.94 2.06.94-2.06 2.06-.94-2.06-.94-.94-2.06-.94 2.06-2.06.94zm-11 1L8.5 8.5l.94-2.06 2.06-.94-2.06-.94L8.5 2.5l-.94 2.06-2.06.94zm10 10l.94 2.06.94-2.06 2.06-.94-2.06-.94-.94-2.06-.94 2.06-2.06.94z\"/><path d=\"M17.41 7.96l-1.37-1.37c-.4-.4-.92-.59-1.43-.59-.52 0-1.04.2-1.43.59L10.3 9.45l-7.72 7.72c-.78.78-.78 2.05 0 2.83L4 21.41c.39.39.9.59 1.41.59.51 0 1.02-.2 1.41-.59l7.78-7.78 2.81-2.81c.8-.78.8-2.07 0-2.86zM5.41 20L4 18.59l7.72-7.72 1.47 1.35L5.41 20z\"/>\n",
              "  </svg>\n",
              "      </button>\n",
              "      \n",
              "  <style>\n",
              "    .colab-df-container {\n",
              "      display:flex;\n",
              "      flex-wrap:wrap;\n",
              "      gap: 12px;\n",
              "    }\n",
              "\n",
              "    .colab-df-convert {\n",
              "      background-color: #E8F0FE;\n",
              "      border: none;\n",
              "      border-radius: 50%;\n",
              "      cursor: pointer;\n",
              "      display: none;\n",
              "      fill: #1967D2;\n",
              "      height: 32px;\n",
              "      padding: 0 0 0 0;\n",
              "      width: 32px;\n",
              "    }\n",
              "\n",
              "    .colab-df-convert:hover {\n",
              "      background-color: #E2EBFA;\n",
              "      box-shadow: 0px 1px 2px rgba(60, 64, 67, 0.3), 0px 1px 3px 1px rgba(60, 64, 67, 0.15);\n",
              "      fill: #174EA6;\n",
              "    }\n",
              "\n",
              "    [theme=dark] .colab-df-convert {\n",
              "      background-color: #3B4455;\n",
              "      fill: #D2E3FC;\n",
              "    }\n",
              "\n",
              "    [theme=dark] .colab-df-convert:hover {\n",
              "      background-color: #434B5C;\n",
              "      box-shadow: 0px 1px 3px 1px rgba(0, 0, 0, 0.15);\n",
              "      filter: drop-shadow(0px 1px 2px rgba(0, 0, 0, 0.3));\n",
              "      fill: #FFFFFF;\n",
              "    }\n",
              "  </style>\n",
              "\n",
              "      <script>\n",
              "        const buttonEl =\n",
              "          document.querySelector('#df-ef6a0ab3-5839-475b-9050-e010753107b3 button.colab-df-convert');\n",
              "        buttonEl.style.display =\n",
              "          google.colab.kernel.accessAllowed ? 'block' : 'none';\n",
              "\n",
              "        async function convertToInteractive(key) {\n",
              "          const element = document.querySelector('#df-ef6a0ab3-5839-475b-9050-e010753107b3');\n",
              "          const dataTable =\n",
              "            await google.colab.kernel.invokeFunction('convertToInteractive',\n",
              "                                                     [key], {});\n",
              "          if (!dataTable) return;\n",
              "\n",
              "          const docLinkHtml = 'Like what you see? Visit the ' +\n",
              "            '<a target=\"_blank\" href=https://colab.research.google.com/notebooks/data_table.ipynb>data table notebook</a>'\n",
              "            + ' to learn more about interactive tables.';\n",
              "          element.innerHTML = '';\n",
              "          dataTable['output_type'] = 'display_data';\n",
              "          await google.colab.output.renderOutput(dataTable, element);\n",
              "          const docLink = document.createElement('div');\n",
              "          docLink.innerHTML = docLinkHtml;\n",
              "          element.appendChild(docLink);\n",
              "        }\n",
              "      </script>\n",
              "    </div>\n",
              "  </div>\n",
              "  "
            ]
          },
          "metadata": {},
          "execution_count": 16
        }
      ]
    },
    {
      "cell_type": "markdown",
      "source": [
        "# New Query"
      ],
      "metadata": {
        "id": "bCy88QoHVPIz"
      }
    },
    {
      "cell_type": "code",
      "source": [
        "query = 'who have a apartment in Israel ?'\n",
        "query_emb = get_embedding([query])[0]"
      ],
      "metadata": {
        "id": "qM4wWLW2VZDM"
      },
      "execution_count": 17,
      "outputs": []
    },
    {
      "cell_type": "markdown",
      "source": [
        "# Normalize"
      ],
      "metadata": {
        "id": "voUI2LJyVZ3L"
      }
    },
    {
      "cell_type": "code",
      "source": [
        "best_ind = df['embeddings'].map(\n",
        "    lambda emb: np.dot(emb , query_emb)/ (\n",
        "        np.linalg.norm(emb) * np.linalg.norm(query_emb)\n",
        "    )\n",
        ").argmax()"
      ],
      "metadata": {
        "id": "HECTc766YFMU"
      },
      "execution_count": 18,
      "outputs": []
    },
    {
      "cell_type": "markdown",
      "source": [
        "# Prompt"
      ],
      "metadata": {
        "id": "ZWDxgP9AYF_p"
      }
    },
    {
      "cell_type": "code",
      "source": [
        "prompt = (\"the best answer is : \" + df['text'][best_ind])\n",
        "prompt"
      ],
      "metadata": {
        "colab": {
          "base_uri": "https://localhost:8080/",
          "height": 70
        },
        "id": "Dt049ObQNlJq",
        "outputId": "5909df3a-86db-4db4-ce3a-a69c8d95d0ed"
      },
      "execution_count": 19,
      "outputs": [
        {
          "output_type": "execute_result",
          "data": {
            "text/plain": [
              "\"the best answer is : Sarah lives in tel aviv, Sarah is overjoyed with the news of her promotion and can't wait to start her new job. Sarah is feeling anxious about her upcoming presentation and is practicing her speech over and over again. Sarah is heartbroken after her dog passed away and is taking some time off work to grieve.,\""
            ],
            "application/vnd.google.colaboratory.intrinsic+json": {
              "type": "string"
            }
          },
          "metadata": {},
          "execution_count": 19
        }
      ]
    },
    {
      "cell_type": "markdown",
      "source": [
        "# END"
      ],
      "metadata": {
        "id": "2t_48kBZcrEK"
      }
    }
  ]
}